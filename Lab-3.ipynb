{
 "cells": [
  {
   "cell_type": "markdown",
   "metadata": {},
   "source": [
    "### ЛР&nbsp;№3&nbsp;&nbsp;&nbsp;&nbsp;Вариант&nbsp;14\n",
    "---"
   ]
  },
  {
   "cell_type": "code",
   "execution_count": 603,
   "metadata": {
    "collapsed": true
   },
   "outputs": [],
   "source": [
    "from Plot import *\n",
    "from collections import Counter\n",
    "import pandas as pd"
   ]
  },
  {
   "cell_type": "markdown",
   "source": [
    "#### Задание&nbsp;1.&nbsp;&nbsp;Критерий&nbsp;Пирсона\n",
    "---"
   ],
   "metadata": {
    "collapsed": false,
    "pycharm": {
     "name": "#%% md\n"
    }
   }
  },
  {
   "cell_type": "code",
   "execution_count": 604,
   "metadata": {
    "pycharm": {
     "name": "#%%\n"
    }
   },
   "outputs": [],
   "source": [
    "variation_series = get_empirical_points(200)"
   ]
  },
  {
   "cell_type": "code",
   "execution_count": 605,
   "metadata": {
    "pycharm": {
     "name": "#%%\n"
    }
   },
   "outputs": [],
   "source": [
    "equal_chance_data = get_equal_chance_data(variation_series)\n",
    "plot_equal_interval = Plot('y', 'f*(y)', equal_chance_data)"
   ]
  },
  {
   "cell_type": "code",
   "execution_count": 606,
   "metadata": {
    "pycharm": {
     "name": "#%%\n"
    }
   },
   "outputs": [
    {
     "data": {
      "text/plain": "    $A_i$   $B_i$  $step_i$  $amount_i$    $f*_i$\n0  0.0030  0.0970    0.0940          22  1.170213\n1  0.0970  0.1795    0.0825          22  1.333333\n2  0.1795  0.2725    0.0930          22  1.182796\n3  0.2725  0.3965    0.1240          22  0.887097\n4  0.3965  0.4945    0.0980          22  1.122449\n5  0.4945  0.5755    0.0810          22  1.358025\n6  0.5755  0.6965    0.1210          22  0.909091\n7  0.6965  0.8820    0.1855          22  0.592992\n8  0.8820  0.9840    0.1020          22  1.078431",
      "text/html": "<div>\n<style scoped>\n    .dataframe tbody tr th:only-of-type {\n        vertical-align: middle;\n    }\n\n    .dataframe tbody tr th {\n        vertical-align: top;\n    }\n\n    .dataframe thead th {\n        text-align: right;\n    }\n</style>\n<table border=\"1\" class=\"dataframe\">\n  <thead>\n    <tr style=\"text-align: right;\">\n      <th></th>\n      <th>$A_i$</th>\n      <th>$B_i$</th>\n      <th>$step_i$</th>\n      <th>$amount_i$</th>\n      <th>$f*_i$</th>\n    </tr>\n  </thead>\n  <tbody>\n    <tr>\n      <th>0</th>\n      <td>0.0030</td>\n      <td>0.0970</td>\n      <td>0.0940</td>\n      <td>22</td>\n      <td>1.170213</td>\n    </tr>\n    <tr>\n      <th>1</th>\n      <td>0.0970</td>\n      <td>0.1795</td>\n      <td>0.0825</td>\n      <td>22</td>\n      <td>1.333333</td>\n    </tr>\n    <tr>\n      <th>2</th>\n      <td>0.1795</td>\n      <td>0.2725</td>\n      <td>0.0930</td>\n      <td>22</td>\n      <td>1.182796</td>\n    </tr>\n    <tr>\n      <th>3</th>\n      <td>0.2725</td>\n      <td>0.3965</td>\n      <td>0.1240</td>\n      <td>22</td>\n      <td>0.887097</td>\n    </tr>\n    <tr>\n      <th>4</th>\n      <td>0.3965</td>\n      <td>0.4945</td>\n      <td>0.0980</td>\n      <td>22</td>\n      <td>1.122449</td>\n    </tr>\n    <tr>\n      <th>5</th>\n      <td>0.4945</td>\n      <td>0.5755</td>\n      <td>0.0810</td>\n      <td>22</td>\n      <td>1.358025</td>\n    </tr>\n    <tr>\n      <th>6</th>\n      <td>0.5755</td>\n      <td>0.6965</td>\n      <td>0.1210</td>\n      <td>22</td>\n      <td>0.909091</td>\n    </tr>\n    <tr>\n      <th>7</th>\n      <td>0.6965</td>\n      <td>0.8820</td>\n      <td>0.1855</td>\n      <td>22</td>\n      <td>0.592992</td>\n    </tr>\n    <tr>\n      <th>8</th>\n      <td>0.8820</td>\n      <td>0.9840</td>\n      <td>0.1020</td>\n      <td>22</td>\n      <td>1.078431</td>\n    </tr>\n  </tbody>\n</table>\n</div>"
     },
     "execution_count": 606,
     "metadata": {},
     "output_type": "execute_result"
    }
   ],
   "source": [
    "A, B = equal_chance_data[L_BORDER], equal_chance_data[R_BORDER]\n",
    "pd.DataFrame({\n",
    "    '$A_i$': A,\n",
    "    '$B_i$': B,\n",
    "    '$step_i$': [B[i] - A[i] for i in range(len(A))],\n",
    "    '$amount_i$': len(variation_series) // get_intervals_amount(len(variation_series)),\n",
    "    '$f*_i$': equal_chance_data[F_DENSITY]\n",
    "})"
   ]
  },
  {
   "cell_type": "code",
   "execution_count": 607,
   "metadata": {
    "pycharm": {
     "name": "#%%\n"
    }
   },
   "outputs": [
    {
     "data": {
      "text/plain": "<Figure size 432x288 with 1 Axes>",
      "image/png": "[encoded data removed]"
     },
     "metadata": {
      "needs_background": "light"
     },
     "output_type": "display_data"
    }
   ],
   "source": [
    "plot_equal_interval.density_hist()\n",
    "theoretic_density(variation_series)\n",
    "plot_equal_interval.show('Гистограмма равновероятностным методом')"
   ]
  },
  {
   "cell_type": "markdown",
   "metadata": {},
   "source": [
    "Выдвенем гипотезу $H_0$, что наше эмпирическое и теоретическое распределения совпадают"
   ]
  },
  {
   "cell_type": "markdown",
   "metadata": {},
   "source": [
    "формула вероятности попадания случайной велечины в <em>iй интервал при условии , что гипотеза верна\n",
    "\n",
    "$$p_i=\\frac{4}{\\pi} \\cdot (arctg(B_i)-arctg(A_i))$$"
   ]
  },
  {
   "cell_type": "code",
   "execution_count": 608,
   "metadata": {
    "pycharm": {
     "name": "#%%\n"
    }
   },
   "outputs": [],
   "source": [
    "F_A, F_B, p_theoretic, xi_list = [], [], [], []\n",
    "series_len = len(variation_series)\n",
    "intervals_amount = get_intervals_amount(series_len)\n",
    "p = v = series_len // intervals_amount / series_len\n",
    "\n",
    "F = lambda y: 4 / np.pi * np.arctan(y)\n",
    "for i in range(len(equal_chance_data[L_BORDER])):\n",
    "    F_A.append(F(equal_chance_data[L_BORDER][i]))\n",
    "    F_B.append(F(equal_chance_data[R_BORDER][i]))\n",
    "    p_theoretic.append(F_B[-1] - F_A[-1])\n",
    "    xi_list.append(series_len * (p_theoretic[-1] - p) ** 2 / p_theoretic[-1])"
   ]
  },
  {
   "cell_type": "code",
   "execution_count": 609,
   "metadata": {
    "pycharm": {
     "name": "#%%\n"
    }
   },
   "outputs": [
    {
     "data": {
      "text/plain": "   $F(A_i)$  $F(B_i)$     $p_i$  $p_i^*$  $\\chi_i$\n0    0.0030    0.0970  0.119299     0.11  0.144976\n1    0.0970    0.1795  0.103019     0.11  0.094606\n2    0.1795    0.2725  0.112595     0.11  0.011962\n3    0.2725    0.3965  0.141896     0.11  1.433959\n4    0.3965    0.4945  0.104090     0.11  0.067101\n5    0.4945    0.5755  0.080178     0.11  2.218360\n6    0.5755    0.6965  0.109706     0.11  0.000157\n7    0.6965    0.8820  0.145668     0.11  1.746763\n8    0.8820    0.9840  0.069459     0.11  4.732507",
      "text/html": "<div>\n<style scoped>\n    .dataframe tbody tr th:only-of-type {\n        vertical-align: middle;\n    }\n\n    .dataframe tbody tr th {\n        vertical-align: top;\n    }\n\n    .dataframe thead th {\n        text-align: right;\n    }\n</style>\n<table border=\"1\" class=\"dataframe\">\n  <thead>\n    <tr style=\"text-align: right;\">\n      <th></th>\n      <th>$F(A_i)$</th>\n      <th>$F(B_i)$</th>\n      <th>$p_i$</th>\n      <th>$p_i^*$</th>\n      <th>$\\chi_i$</th>\n    </tr>\n  </thead>\n  <tbody>\n    <tr>\n      <th>0</th>\n      <td>0.0030</td>\n      <td>0.0970</td>\n      <td>0.119299</td>\n      <td>0.11</td>\n      <td>0.144976</td>\n    </tr>\n    <tr>\n      <th>1</th>\n      <td>0.0970</td>\n      <td>0.1795</td>\n      <td>0.103019</td>\n      <td>0.11</td>\n      <td>0.094606</td>\n    </tr>\n    <tr>\n      <th>2</th>\n      <td>0.1795</td>\n      <td>0.2725</td>\n      <td>0.112595</td>\n      <td>0.11</td>\n      <td>0.011962</td>\n    </tr>\n    <tr>\n      <th>3</th>\n      <td>0.2725</td>\n      <td>0.3965</td>\n      <td>0.141896</td>\n      <td>0.11</td>\n      <td>1.433959</td>\n    </tr>\n    <tr>\n      <th>4</th>\n      <td>0.3965</td>\n      <td>0.4945</td>\n      <td>0.104090</td>\n      <td>0.11</td>\n      <td>0.067101</td>\n    </tr>\n    <tr>\n      <th>5</th>\n      <td>0.4945</td>\n      <td>0.5755</td>\n      <td>0.080178</td>\n      <td>0.11</td>\n      <td>2.218360</td>\n    </tr>\n    <tr>\n      <th>6</th>\n      <td>0.5755</td>\n      <td>0.6965</td>\n      <td>0.109706</td>\n      <td>0.11</td>\n      <td>0.000157</td>\n    </tr>\n    <tr>\n      <th>7</th>\n      <td>0.6965</td>\n      <td>0.8820</td>\n      <td>0.145668</td>\n      <td>0.11</td>\n      <td>1.746763</td>\n    </tr>\n    <tr>\n      <th>8</th>\n      <td>0.8820</td>\n      <td>0.9840</td>\n      <td>0.069459</td>\n      <td>0.11</td>\n      <td>4.732507</td>\n    </tr>\n  </tbody>\n</table>\n</div>"
     },
     "execution_count": 609,
     "metadata": {},
     "output_type": "execute_result"
    }
   ],
   "source": [
    "pd.DataFrame({\n",
    "    '$F(A_i)$': equal_chance_data[L_BORDER],\n",
    "    '$F(B_i)$': equal_chance_data[R_BORDER],\n",
    "    '$p_i$': p_theoretic,\n",
    "    '$p_i^*$': p,\n",
    "    '$\\chi_i$': xi_list\n",
    "})"
   ]
  },
  {
   "cell_type": "code",
   "execution_count": 610,
   "outputs": [
    {
     "name": "stdout",
     "output_type": "stream",
     "text": [
      "xi^2 = 10.450390401351655\n"
     ]
    }
   ],
   "source": [
    "print('xi^2 = {}'.format(sum(xi_list)))"
   ],
   "metadata": {
    "collapsed": false,
    "pycharm": {
     "name": "#%%\n"
    }
   }
  },
  {
   "cell_type": "markdown",
   "metadata": {
    "pycharm": {
     "name": "#%% md\n"
    }
   },
   "source": [
    "'Количество степеней свободы равно:\n",
    "$$k=M-1=9-1=8$$\n",
    "\n",
    "\n",
    "Из \"Хи - квадрат\" таблицы выберем значение $\\chi_{a,b}^2$,\n",
    "где $\\alpha=0.01$:\n",
    "$$\\chi_{\\alpha,k}^2=20.10$$"
   ]
  },
  {
   "cell_type": "markdown",
   "source": [
    "$\\chi^2 < \\chi_{\\alpha,k}^2$, следовательно, нет оснований отклонять выдвинутую гипотезу."
   ],
   "metadata": {
    "collapsed": false,
    "pycharm": {
     "name": "#%% md\n"
    }
   }
  },
  {
   "cell_type": "markdown",
   "source": [
    "#### Задание 2.&nbsp;&nbsp;Критерий&nbsp;Колмогорова\n",
    "---"
   ],
   "metadata": {
    "collapsed": false
   }
  },
  {
   "cell_type": "code",
   "execution_count": 611,
   "outputs": [],
   "source": [
    "variation_series = get_empirical_points(30)\n",
    "empiric_data = dict(Counter(variation_series))\n",
    "count = 0\n",
    "for k, v in empiric_data.items():\n",
    "    count += v\n",
    "    empiric_data[k] = count / len(variation_series)"
   ],
   "metadata": {
    "collapsed": false,
    "pycharm": {
     "name": "#%%\n"
    }
   }
  },
  {
   "cell_type": "code",
   "execution_count": 612,
   "outputs": [],
   "source": [
    "def f_y(i):\n",
    "    return round((4 / np.pi) * np.arctan(i), 3)\n",
    "\n",
    "y, f = zip(*{**{0: 0}, **empiric_data, **{1: 1}}.items())\n",
    "empiric_y = list(y)\n",
    "empiric_f = list(f)\n",
    "theoretic_f = [f_y(i) for i in empiric_y]"
   ],
   "metadata": {
    "collapsed": false,
    "pycharm": {
     "name": "#%%\n"
    }
   }
  },
  {
   "cell_type": "code",
   "execution_count": 613,
   "outputs": [],
   "source": [
    "f_difference = [abs(empiric_f[i] - theoretic_f[i]) for i in range(len(empiric_f))]\n",
    "mx = max(f_difference)\n",
    "index = f_difference.index(mx)"
   ],
   "metadata": {
    "collapsed": false,
    "pycharm": {
     "name": "#%%\n"
    }
   }
  },
  {
   "cell_type": "code",
   "execution_count": 614,
   "outputs": [
    {
     "data": {
      "text/plain": "<Figure size 432x288 with 1 Axes>",
      "image/png": "[encoded data removed]"
     },
     "metadata": {
      "needs_background": "light"
     },
     "output_type": "display_data"
    },
    {
     "name": "stdout",
     "output_type": "stream",
     "text": [
      "Максимальная разность по модулю между теоретической и эмпирической функцией равна 0.10233333333333333 при y=0.103\n"
     ]
    }
   ],
   "source": [
    "plt.grid(True, which='both', linestyle='--')\n",
    "plt.xlim(-0.25, 1.2)\n",
    "plt.step([-0.25] + empiric_y + [1.2], [0] + empiric_f + [1], where='post', label='empiric data')\n",
    "plt.plot(y, theoretic_f, label='theoretic data')\n",
    "\n",
    "x = np.arange(-0.25, empiric_y[index], 0.01)\n",
    "plt.plot(x, [empiric_f[index]] * len(x), '--', color='#9E9E9E')\n",
    "plt.plot(x, [theoretic_f[index]] * len(x), '--', color='#9E9E9E')\n",
    "text_x = -0.2\n",
    "text_y = theoretic_f[index] if theoretic_f[index] < empiric_f[index] else empiric_f[index]\n",
    "plt.annotate('Δ = {}'.format(mx), (text_x, text_y + mx / 2 - 0.01))\n",
    "\n",
    "plt.legend()\n",
    "plt.show()\n",
    "print('Максимальная разность по модулю между теоретической и эмпирической функцией равна'\n",
    "      ' {} при y={}'.format(mx, empiric_y[index]))"
   ],
   "metadata": {
    "collapsed": false,
    "pycharm": {
     "name": "#%%\n"
    }
   }
  },
  {
   "cell_type": "markdown",
   "source": [
    "Вычислим значение статистики $\\lambda$:\n",
    "\n",
    "$$\\lambda=\\sqrt{n} \\cdot max|F^*(x) - F_0(x)|$$"
   ],
   "metadata": {
    "collapsed": false
   }
  },
  {
   "cell_type": "code",
   "execution_count": 615,
   "outputs": [
    {
     "name": "stdout",
     "output_type": "stream",
     "text": [
      "λ = 0.56050275051362\n"
     ]
    }
   ],
   "source": [
    "print('λ = {}'.format(np.sqrt(len(variation_series)) * mx))"
   ],
   "metadata": {
    "collapsed": false,
    "pycharm": {
     "name": "#%%\n"
    }
   }
  },
  {
   "cell_type": "markdown",
   "source": [
    "Из таблицы Колмогорова выберем критическое значение, при условии что доверительная вероятность $\\gamma=1-\\alpha=0.95$:\n",
    "\n",
    "$$\\lambda_x=1.38$$"
   ],
   "metadata": {
    "collapsed": false,
    "pycharm": {
     "name": "#%% md\n"
    }
   }
  },
  {
   "cell_type": "markdown",
   "source": [
    "Поскольку $\\lambda<\\lambda;_x$ у нас нет оснований отклонять выдвинутую гипотезу\n"
   ],
   "metadata": {
    "collapsed": false
   }
  },
  {
   "cell_type": "markdown",
   "source": [
    "#### Задание 3.&nbsp;&nbsp;Критерий&nbsp;Мизеса\n",
    "---"
   ],
   "metadata": {
    "collapsed": false
   }
  },
  {
   "cell_type": "code",
   "execution_count": 616,
   "outputs": [],
   "source": [
    "series_len = 50\n",
    "variation_series = get_empirical_points(series_len)\n",
    "F_empiric = []\n",
    "F_theoretic = []\n",
    "deviation = []"
   ],
   "metadata": {
    "collapsed": false,
    "pycharm": {
     "name": "#%%\n"
    }
   }
  },
  {
   "cell_type": "code",
   "execution_count": 617,
   "outputs": [],
   "source": [
    "for i in range(series_len):\n",
    "    F_empiric.append((i + 0.5) / series_len)\n",
    "    F_theoretic.append(f_y(variation_series[i]))\n",
    "    deviation.append((F_empiric[-1] - F_theoretic[-1]) ** 2)\n"
   ],
   "metadata": {
    "collapsed": false,
    "pycharm": {
     "name": "#%%\n"
    }
   }
  },
  {
   "cell_type": "code",
   "execution_count": 618,
   "outputs": [
    {
     "data": {
      "text/plain": "    $y_i$  $F*(y_i)$  $F(y_i)$     $D_i$\n0   0.002       0.01     0.003  0.000049\n1   0.049       0.03     0.062  0.001024\n2   0.069       0.05     0.088  0.001444\n3   0.086       0.07     0.109  0.001521\n4   0.087       0.09     0.110  0.000400\n5   0.103       0.11     0.131  0.000441\n6   0.104       0.13     0.132  0.000004\n7   0.124       0.15     0.157  0.000049\n8   0.152       0.17     0.192  0.000484\n9   0.152       0.19     0.192  0.000004\n10  0.159       0.21     0.201  0.000081\n11  0.161       0.23     0.203  0.000729\n12  0.192       0.25     0.242  0.000064\n13  0.220       0.27     0.276  0.000036\n14  0.221       0.29     0.277  0.000169\n15  0.241       0.31     0.301  0.000081\n16  0.244       0.33     0.305  0.000625\n17  0.273       0.35     0.339  0.000121\n18  0.286       0.37     0.355  0.000225\n19  0.299       0.39     0.370  0.000400\n20  0.304       0.41     0.376  0.001156\n21  0.371       0.43     0.452  0.000484\n22  0.383       0.45     0.466  0.000256\n23  0.405       0.47     0.490  0.000400\n24  0.437       0.49     0.525  0.001225\n25  0.441       0.51     0.529  0.000361\n26  0.442       0.53     0.530  0.000000\n27  0.472       0.55     0.561  0.000121\n28  0.490       0.57     0.580  0.000100\n29  0.510       0.59     0.600  0.000100\n30  0.532       0.61     0.623  0.000169\n31  0.533       0.63     0.624  0.000036\n32  0.626       0.65     0.712  0.003844\n33  0.636       0.67     0.721  0.002601\n34  0.667       0.69     0.749  0.003481\n35  0.681       0.71     0.761  0.002601\n36  0.690       0.73     0.769  0.001521\n37  0.706       0.75     0.783  0.001089\n38  0.714       0.77     0.789  0.000361\n39  0.742       0.79     0.813  0.000529\n40  0.744       0.81     0.814  0.000016\n41  0.745       0.83     0.815  0.000225\n42  0.779       0.85     0.843  0.000049\n43  0.782       0.87     0.845  0.000625\n44  0.825       0.89     0.878  0.000144\n45  0.845       0.91     0.893  0.000289\n46  0.845       0.93     0.893  0.001369\n47  0.881       0.95     0.920  0.000900\n48  0.894       0.97     0.929  0.001681\n49  0.923       0.99     0.949  0.001681",
      "text/html": "<div>\n<style scoped>\n    .dataframe tbody tr th:only-of-type {\n        vertical-align: middle;\n    }\n\n    .dataframe tbody tr th {\n        vertical-align: top;\n    }\n\n    .dataframe thead th {\n        text-align: right;\n    }\n</style>\n<table border=\"1\" class=\"dataframe\">\n  <thead>\n    <tr style=\"text-align: right;\">\n      <th></th>\n      <th>$y_i$</th>\n      <th>$F*(y_i)$</th>\n      <th>$F(y_i)$</th>\n      <th>$D_i$</th>\n    </tr>\n  </thead>\n  <tbody>\n    <tr>\n      <th>0</th>\n      <td>0.002</td>\n      <td>0.01</td>\n      <td>0.003</td>\n      <td>0.000049</td>\n    </tr>\n    <tr>\n      <th>1</th>\n      <td>0.049</td>\n      <td>0.03</td>\n      <td>0.062</td>\n      <td>0.001024</td>\n    </tr>\n    <tr>\n      <th>2</th>\n      <td>0.069</td>\n      <td>0.05</td>\n      <td>0.088</td>\n      <td>0.001444</td>\n    </tr>\n    <tr>\n      <th>3</th>\n      <td>0.086</td>\n      <td>0.07</td>\n      <td>0.109</td>\n      <td>0.001521</td>\n    </tr>\n    <tr>\n      <th>4</th>\n      <td>0.087</td>\n      <td>0.09</td>\n      <td>0.110</td>\n      <td>0.000400</td>\n    </tr>\n    <tr>\n      <th>5</th>\n      <td>0.103</td>\n      <td>0.11</td>\n      <td>0.131</td>\n      <td>0.000441</td>\n    </tr>\n    <tr>\n      <th>6</th>\n      <td>0.104</td>\n      <td>0.13</td>\n      <td>0.132</td>\n      <td>0.000004</td>\n    </tr>\n    <tr>\n      <th>7</th>\n      <td>0.124</td>\n      <td>0.15</td>\n      <td>0.157</td>\n      <td>0.000049</td>\n    </tr>\n    <tr>\n      <th>8</th>\n      <td>0.152</td>\n      <td>0.17</td>\n      <td>0.192</td>\n      <td>0.000484</td>\n    </tr>\n    <tr>\n      <th>9</th>\n      <td>0.152</td>\n      <td>0.19</td>\n      <td>0.192</td>\n      <td>0.000004</td>\n    </tr>\n    <tr>\n      <th>10</th>\n      <td>0.159</td>\n      <td>0.21</td>\n      <td>0.201</td>\n      <td>0.000081</td>\n    </tr>\n    <tr>\n      <th>11</th>\n      <td>0.161</td>\n      <td>0.23</td>\n      <td>0.203</td>\n      <td>0.000729</td>\n    </tr>\n    <tr>\n      <th>12</th>\n      <td>0.192</td>\n      <td>0.25</td>\n      <td>0.242</td>\n      <td>0.000064</td>\n    </tr>\n    <tr>\n      <th>13</th>\n      <td>0.220</td>\n      <td>0.27</td>\n      <td>0.276</td>\n      <td>0.000036</td>\n    </tr>\n    <tr>\n      <th>14</th>\n      <td>0.221</td>\n      <td>0.29</td>\n      <td>0.277</td>\n      <td>0.000169</td>\n    </tr>\n    <tr>\n      <th>15</th>\n      <td>0.241</td>\n      <td>0.31</td>\n      <td>0.301</td>\n      <td>0.000081</td>\n    </tr>\n    <tr>\n      <th>16</th>\n      <td>0.244</td>\n      <td>0.33</td>\n      <td>0.305</td>\n      <td>0.000625</td>\n    </tr>\n    <tr>\n      <th>17</th>\n      <td>0.273</td>\n      <td>0.35</td>\n      <td>0.339</td>\n      <td>0.000121</td>\n    </tr>\n    <tr>\n      <th>18</th>\n      <td>0.286</td>\n      <td>0.37</td>\n      <td>0.355</td>\n      <td>0.000225</td>\n    </tr>\n    <tr>\n      <th>19</th>\n      <td>0.299</td>\n      <td>0.39</td>\n      <td>0.370</td>\n      <td>0.000400</td>\n    </tr>\n    <tr>\n      <th>20</th>\n      <td>0.304</td>\n      <td>0.41</td>\n      <td>0.376</td>\n      <td>0.001156</td>\n    </tr>\n    <tr>\n      <th>21</th>\n      <td>0.371</td>\n      <td>0.43</td>\n      <td>0.452</td>\n      <td>0.000484</td>\n    </tr>\n    <tr>\n      <th>22</th>\n      <td>0.383</td>\n      <td>0.45</td>\n      <td>0.466</td>\n      <td>0.000256</td>\n    </tr>\n    <tr>\n      <th>23</th>\n      <td>0.405</td>\n      <td>0.47</td>\n      <td>0.490</td>\n      <td>0.000400</td>\n    </tr>\n    <tr>\n      <th>24</th>\n      <td>0.437</td>\n      <td>0.49</td>\n      <td>0.525</td>\n      <td>0.001225</td>\n    </tr>\n    <tr>\n      <th>25</th>\n      <td>0.441</td>\n      <td>0.51</td>\n      <td>0.529</td>\n      <td>0.000361</td>\n    </tr>\n    <tr>\n      <th>26</th>\n      <td>0.442</td>\n      <td>0.53</td>\n      <td>0.530</td>\n      <td>0.000000</td>\n    </tr>\n    <tr>\n      <th>27</th>\n      <td>0.472</td>\n      <td>0.55</td>\n      <td>0.561</td>\n      <td>0.000121</td>\n    </tr>\n    <tr>\n      <th>28</th>\n      <td>0.490</td>\n      <td>0.57</td>\n      <td>0.580</td>\n      <td>0.000100</td>\n    </tr>\n    <tr>\n      <th>29</th>\n      <td>0.510</td>\n      <td>0.59</td>\n      <td>0.600</td>\n      <td>0.000100</td>\n    </tr>\n    <tr>\n      <th>30</th>\n      <td>0.532</td>\n      <td>0.61</td>\n      <td>0.623</td>\n      <td>0.000169</td>\n    </tr>\n    <tr>\n      <th>31</th>\n      <td>0.533</td>\n      <td>0.63</td>\n      <td>0.624</td>\n      <td>0.000036</td>\n    </tr>\n    <tr>\n      <th>32</th>\n      <td>0.626</td>\n      <td>0.65</td>\n      <td>0.712</td>\n      <td>0.003844</td>\n    </tr>\n    <tr>\n      <th>33</th>\n      <td>0.636</td>\n      <td>0.67</td>\n      <td>0.721</td>\n      <td>0.002601</td>\n    </tr>\n    <tr>\n      <th>34</th>\n      <td>0.667</td>\n      <td>0.69</td>\n      <td>0.749</td>\n      <td>0.003481</td>\n    </tr>\n    <tr>\n      <th>35</th>\n      <td>0.681</td>\n      <td>0.71</td>\n      <td>0.761</td>\n      <td>0.002601</td>\n    </tr>\n    <tr>\n      <th>36</th>\n      <td>0.690</td>\n      <td>0.73</td>\n      <td>0.769</td>\n      <td>0.001521</td>\n    </tr>\n    <tr>\n      <th>37</th>\n      <td>0.706</td>\n      <td>0.75</td>\n      <td>0.783</td>\n      <td>0.001089</td>\n    </tr>\n    <tr>\n      <th>38</th>\n      <td>0.714</td>\n      <td>0.77</td>\n      <td>0.789</td>\n      <td>0.000361</td>\n    </tr>\n    <tr>\n      <th>39</th>\n      <td>0.742</td>\n      <td>0.79</td>\n      <td>0.813</td>\n      <td>0.000529</td>\n    </tr>\n    <tr>\n      <th>40</th>\n      <td>0.744</td>\n      <td>0.81</td>\n      <td>0.814</td>\n      <td>0.000016</td>\n    </tr>\n    <tr>\n      <th>41</th>\n      <td>0.745</td>\n      <td>0.83</td>\n      <td>0.815</td>\n      <td>0.000225</td>\n    </tr>\n    <tr>\n      <th>42</th>\n      <td>0.779</td>\n      <td>0.85</td>\n      <td>0.843</td>\n      <td>0.000049</td>\n    </tr>\n    <tr>\n      <th>43</th>\n      <td>0.782</td>\n      <td>0.87</td>\n      <td>0.845</td>\n      <td>0.000625</td>\n    </tr>\n    <tr>\n      <th>44</th>\n      <td>0.825</td>\n      <td>0.89</td>\n      <td>0.878</td>\n      <td>0.000144</td>\n    </tr>\n    <tr>\n      <th>45</th>\n      <td>0.845</td>\n      <td>0.91</td>\n      <td>0.893</td>\n      <td>0.000289</td>\n    </tr>\n    <tr>\n      <th>46</th>\n      <td>0.845</td>\n      <td>0.93</td>\n      <td>0.893</td>\n      <td>0.001369</td>\n    </tr>\n    <tr>\n      <th>47</th>\n      <td>0.881</td>\n      <td>0.95</td>\n      <td>0.920</td>\n      <td>0.000900</td>\n    </tr>\n    <tr>\n      <th>48</th>\n      <td>0.894</td>\n      <td>0.97</td>\n      <td>0.929</td>\n      <td>0.001681</td>\n    </tr>\n    <tr>\n      <th>49</th>\n      <td>0.923</td>\n      <td>0.99</td>\n      <td>0.949</td>\n      <td>0.001681</td>\n    </tr>\n  </tbody>\n</table>\n</div>"
     },
     "execution_count": 618,
     "metadata": {},
     "output_type": "execute_result"
    }
   ],
   "source": [
    "pd.DataFrame({\n",
    "    '$y_i$': variation_series,\n",
    "    '$F*(y_i)$': F_empiric,\n",
    "    '$F(y_i)$': F_theoretic,\n",
    "    '$D_i$': deviation\n",
    "})"
   ],
   "metadata": {
    "collapsed": false,
    "pycharm": {
     "name": "#%%\n"
    }
   }
  },
  {
   "cell_type": "markdown",
   "source": [
    "Критическое значение статистики Мизеса 0.461 (при уровне значимости $\\alpha=0.05$).\n",
    "Фактическое значение статистики:"
   ],
   "metadata": {
    "collapsed": false,
    "pycharm": {
     "name": "#%% md\n"
    }
   }
  },
  {
   "cell_type": "code",
   "execution_count": 619,
   "outputs": [
    {
     "name": "stdout",
     "output_type": "stream",
     "text": [
      "0.03703166666666666\n"
     ]
    }
   ],
   "source": [
    "print(1 / (12 * series_len) + sum(deviation))"
   ],
   "metadata": {
    "collapsed": false,
    "pycharm": {
     "name": "#%%\n"
    }
   }
  },
  {
   "cell_type": "markdown",
   "source": [
    "что меньше критического значения. Следовательно, гипотеза $H_0$ не противоречит имеющимся данным"
   ],
   "metadata": {
    "collapsed": false,
    "pycharm": {
     "name": "#%% md\n"
    }
   }
  }
 ],
 "metadata": {
  "kernelspec": {
   "display_name": "Python 3",
   "language": "python",
   "name": "python3"
  },
  "language_info": {
   "codemirror_mode": {
    "name": "ipython",
    "version": 3
   },
   "file_extension": ".py",
   "mimetype": "text/x-python",
   "name": "python",
   "nbconvert_exporter": "python",
   "pygments_lexer": "ipython3",
   "version": "3.8.2"
  }
 },
 "nbformat": 4,
 "nbformat_minor": 1
}